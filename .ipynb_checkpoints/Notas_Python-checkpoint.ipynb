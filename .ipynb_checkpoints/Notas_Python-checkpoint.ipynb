{
 "cells": [
  {
   "cell_type": "markdown",
   "id": "08334011",
   "metadata": {},
   "source": [
    "Python es lenguaje de programación que se usa para muchas cosas. Se basa en listas, es muy completo. Tienes un intérprete interactivo y te permite saber si lo que estás haciendo si va bien o no\n",
    "\n",
    "Pandas es una librería para el tratamiento de datos, para modificar y tratar datos. Es capaz de leer un montón de tipos de datos (CSV, SQL, Excel…) y lo lee en una tabla. Permite exportar los datos a otro tipo de archivos \n",
    "https://github.com/jvns/pandas-cookbook\n",
    "\n",
    "import pandas as pd"
   ]
  },
  {
   "cell_type": "markdown",
   "id": "2e5a82ba",
   "metadata": {},
   "source": [
    "Función con paréntisis\n",
    "Arrays con corchetes \n",
    "Llaves para definir diccionarios\n"
   ]
  },
  {
   "cell_type": "markdown",
   "id": "5912ee25",
   "metadata": {},
   "source": [
    "Tipos de datos en Python (tipos de objetos)"
   ]
  },
  {
   "cell_type": "code",
   "execution_count": null,
   "id": "2e112f4f",
   "metadata": {},
   "outputs": [],
   "source": [
    "# integer (int) o enteros: números sin decimales\n",
    "3 + 5"
   ]
  },
  {
   "cell_type": "code",
   "execution_count": null,
   "id": "d37c6d0b",
   "metadata": {},
   "outputs": [],
   "source": [
    "#operación módulo, da el resto de la división entera\n",
    "10 % 2"
   ]
  },
  {
   "cell_type": "code",
   "execution_count": null,
   "id": "73ecd582",
   "metadata": {},
   "outputs": [],
   "source": [
    "# float (con decimales, con el punto)\n",
    "4.45 + 4"
   ]
  },
  {
   "cell_type": "code",
   "execution_count": null,
   "id": "c903c33c",
   "metadata": {},
   "outputs": [],
   "source": [
    "Float(“12”) \n",
    "#Convierte un número en un número entero y con decimal\n"
   ]
  },
  {
   "cell_type": "code",
   "execution_count": null,
   "id": "c7c9af6c",
   "metadata": {},
   "outputs": [],
   "source": [
    "# cómo puedo saber si algo es de tipo float o no, preguntando type\n",
    "type(4)"
   ]
  },
  {
   "cell_type": "code",
   "execution_count": null,
   "id": "5facc1e2",
   "metadata": {},
   "outputs": [],
   "source": [
    "type(8.5)"
   ]
  },
  {
   "cell_type": "markdown",
   "id": "8819046e",
   "metadata": {},
   "source": [
    "bool (verdadero y falso)"
   ]
  },
  {
   "cell_type": "code",
   "execution_count": null,
   "id": "1d5e9d28",
   "metadata": {},
   "outputs": [],
   "source": [
    "True"
   ]
  },
  {
   "cell_type": "code",
   "execution_count": null,
   "id": "eae40393",
   "metadata": {},
   "outputs": [],
   "source": [
    "false"
   ]
  },
  {
   "cell_type": "code",
   "execution_count": null,
   "id": "9882161f",
   "metadata": {},
   "outputs": [],
   "source": [
    "# los mensajes de error dan información sobre erroes. En este caso, True y False deben ir en mayúsculas. por eso True aparece en verde, porque está bien"
   ]
  },
  {
   "cell_type": "code",
   "execution_count": null,
   "id": "d5dc2c9f",
   "metadata": {},
   "outputs": [],
   "source": [
    "# puedo preguntar si algo es mayor que otro"
   ]
  },
  {
   "cell_type": "code",
   "execution_count": null,
   "id": "922a99e9",
   "metadata": {},
   "outputs": [],
   "source": [
    "3 < 5"
   ]
  },
  {
   "cell_type": "code",
   "execution_count": null,
   "id": "ab9d0852",
   "metadata": {},
   "outputs": [],
   "source": [
    "5 == 3 + 2\n",
    "#cuando hacemos esto, es preguntar y por eso requiere == porque son exactamente iguales. Si no, es una atribución"
   ]
  },
  {
   "cell_type": "code",
   "execution_count": null,
   "id": "609666b7",
   "metadata": {},
   "outputs": [],
   "source": [
    "5 != 3 + 2    #¿son distintos?"
   ]
  },
  {
   "cell_type": "markdown",
   "id": "de36c0b3",
   "metadata": {},
   "source": [
    "Variables"
   ]
  },
  {
   "cell_type": "code",
   "execution_count": null,
   "id": "6ff8861c",
   "metadata": {},
   "outputs": [],
   "source": [
    "# son nombres que le doy a los datos\n",
    "x = 9"
   ]
  },
  {
   "cell_type": "code",
   "execution_count": null,
   "id": "e4fef16a",
   "metadata": {},
   "outputs": [],
   "source": [
    "x + 9"
   ]
  },
  {
   "cell_type": "code",
   "execution_count": null,
   "id": "574aafac",
   "metadata": {},
   "outputs": [],
   "source": [
    "y + 2 \n",
    "# y no está definida y por eso da error"
   ]
  },
  {
   "cell_type": "markdown",
   "id": "5494761c",
   "metadata": {},
   "source": [
    "Tipos de datos más complejos (no escalares)\n",
    "Listas, tuplas\n",
    "strings\n",
    "diccionarios"
   ]
  },
  {
   "cell_type": "code",
   "execution_count": null,
   "id": "6e8d5987",
   "metadata": {},
   "outputs": [],
   "source": [
    "# listas\n",
    "# colección de elementos que se encierran con corchetes [] y los elementos están separados por comas"
   ]
  },
  {
   "cell_type": "code",
   "execution_count": null,
   "id": "41337228",
   "metadata": {},
   "outputs": [],
   "source": [
    "numeros = [2, 3, 6, 7, 7]"
   ]
  },
  {
   "cell_type": "code",
   "execution_count": null,
   "id": "3984a44e",
   "metadata": {},
   "outputs": [],
   "source": [
    "type(numeros)"
   ]
  },
  {
   "cell_type": "code",
   "execution_count": null,
   "id": "e22da851",
   "metadata": {},
   "outputs": [],
   "source": [
    "precios = [8.4, 7.23, 4, 9, 0]"
   ]
  },
  {
   "cell_type": "code",
   "execution_count": null,
   "id": "da19bf06",
   "metadata": {},
   "outputs": [],
   "source": [
    "#precios y números son listas, que son variabales"
   ]
  },
  {
   "cell_type": "markdown",
   "id": "841ee23b",
   "metadata": {},
   "source": [
    "operaciones que puedo realizar con las listas"
   ]
  },
  {
   "cell_type": "code",
   "execution_count": null,
   "id": "9e143537",
   "metadata": {},
   "outputs": [],
   "source": [
    "# añadir elementos con append y se añaden al final\n",
    "\n",
    "numeros.append(100)"
   ]
  },
  {
   "cell_type": "code",
   "execution_count": null,
   "id": "c4d80078",
   "metadata": {},
   "outputs": [],
   "source": [
    "numeros"
   ]
  },
  {
   "cell_type": "code",
   "execution_count": null,
   "id": "ae282b13",
   "metadata": {},
   "outputs": [],
   "source": [
    "# eliminar elementos dentro de la lista: con remove (solo elimina la primera vez que aparece un valor, si hubiera varios, haríamos un bucle)\n",
    "\n",
    "numeros.remove(100)\n",
    "numeros"
   ]
  },
  {
   "cell_type": "code",
   "execution_count": null,
   "id": "e96e7495",
   "metadata": {},
   "outputs": [],
   "source": [
    "#cuántos precios tengo, el número de elementos que tiene una lista: len\n",
    "len(precios)"
   ]
  },
  {
   "cell_type": "markdown",
   "id": "dd64d623",
   "metadata": {},
   "source": [
    "operación de acceso a los elementos de una lista"
   ]
  },
  {
   "cell_type": "code",
   "execution_count": null,
   "id": "fb48a118",
   "metadata": {},
   "outputs": [],
   "source": [
    "# los elementos están indexados empezando desde cero. para acceder a los elementos de las listas utilizao el operador [---]\n",
    "#los accesos: a una clave de una diccionario, elementos de una lista... todo se hace con [...]"
   ]
  },
  {
   "cell_type": "code",
   "execution_count": null,
   "id": "22e6669f",
   "metadata": {},
   "outputs": [],
   "source": [
    "precios[0]"
   ]
  },
  {
   "cell_type": "code",
   "execution_count": null,
   "id": "d2b6aa45",
   "metadata": {},
   "outputs": [],
   "source": [
    "precios[3]"
   ]
  },
  {
   "cell_type": "code",
   "execution_count": null,
   "id": "82e80632",
   "metadata": {},
   "outputs": [],
   "source": [
    "precios[-1]    #accedes por atrás"
   ]
  },
  {
   "cell_type": "code",
   "execution_count": null,
   "id": "3fcf9a21",
   "metadata": {},
   "outputs": [],
   "source": [
    "# acceder a un trozo, desde dónde hasta dónde. El último número no lo incluye\n",
    "precios[0:3]"
   ]
  },
  {
   "cell_type": "code",
   "execution_count": null,
   "id": "451ed9bc",
   "metadata": {},
   "outputs": [],
   "source": [
    "precios[-3:]   #me piden los tres últimos"
   ]
  },
  {
   "cell_type": "code",
   "execution_count": null,
   "id": "0cbe8e9d",
   "metadata": {},
   "outputs": [],
   "source": [
    "precios[0: 10: 2]   # va del 0 al 10 de valores, pero saltando dos en este caso"
   ]
  },
  {
   "cell_type": "markdown",
   "id": "e67c3ff4",
   "metadata": {},
   "source": [
    " Modificar los elementos de una lista"
   ]
  },
  {
   "cell_type": "code",
   "execution_count": null,
   "id": "cdba1dcf",
   "metadata": {},
   "outputs": [],
   "source": [
    "precios[0] = 2 #le estoy diciendo que el 2 se guarde en primer lugar y modifica el primer elemento"
   ]
  },
  {
   "cell_type": "code",
   "execution_count": null,
   "id": "ff63124f",
   "metadata": {},
   "outputs": [],
   "source": [
    "# insert me permite meter un valor más en cualquier posición \n",
    "precios.insert(0, 5000)"
   ]
  },
  {
   "cell_type": "code",
   "execution_count": null,
   "id": "235b3aa6",
   "metadata": {},
   "outputs": [],
   "source": [
    "precios.insert?"
   ]
  },
  {
   "cell_type": "code",
   "execution_count": null,
   "id": "34dde062",
   "metadata": {},
   "outputs": [],
   "source": [
    "Signature: precios.insert(index, object, /)\n",
    "Docstring: Insert object before index.\n",
    "Type:      builtin_function_or_method"
   ]
  },
  {
   "cell_type": "code",
   "execution_count": null,
   "id": "106851cb",
   "metadata": {},
   "outputs": [],
   "source": [
    "#la primera posición de insert es la posciión,la segunda es el valor"
   ]
  },
  {
   "cell_type": "code",
   "execution_count": null,
   "id": "906d84fc",
   "metadata": {},
   "outputs": [],
   "source": [
    "precios.pop?"
   ]
  },
  {
   "cell_type": "markdown",
   "id": "dacf992a",
   "metadata": {},
   "source": [
    "tuplas"
   ]
  },
  {
   "cell_type": "code",
   "execution_count": null,
   "id": "9c890a66",
   "metadata": {},
   "outputs": [],
   "source": [
    "#son coleeciones de elementos que están encerrados con paréntesis (). No se pueden añadir más valores.\n",
    "#son inmutables, son rígidas. No puedo cambiarles el valor. pero sí se puede hacer acceso"
   ]
  },
  {
   "cell_type": "code",
   "execution_count": null,
   "id": "3f598597",
   "metadata": {},
   "outputs": [],
   "source": [
    "coordenadas = (1, 5)"
   ]
  },
  {
   "cell_type": "code",
   "execution_count": null,
   "id": "2d318af0",
   "metadata": {},
   "outputs": [],
   "source": [
    "type(coordenadas)"
   ]
  },
  {
   "cell_type": "code",
   "execution_count": null,
   "id": "a7d72c9e",
   "metadata": {},
   "outputs": [],
   "source": [
    "#no se pueden modificar"
   ]
  },
  {
   "cell_type": "markdown",
   "id": "6486a06c",
   "metadata": {},
   "source": [
    "Strings (str)"
   ]
  },
  {
   "cell_type": "code",
   "execution_count": null,
   "id": "0e477f66",
   "metadata": {},
   "outputs": [],
   "source": [
    "# se usan mucho en análisis de datos: los nombres, calles, NIF, etc, son string\n",
    "#son datos que se ecnierran entre comillas, simples o dobles \"\", de manera indistinta\n",
    "#son colecciones de caracteres. Los strings son inmutables también"
   ]
  },
  {
   "cell_type": "code",
   "execution_count": null,
   "id": "f1a9b928",
   "metadata": {},
   "outputs": [],
   "source": [
    "nombre = \"Adolfo\"\n",
    "apellido1 = \"Galán\"\n",
    "apellido2 = \"Ruiz\"\n",
    "\n"
   ]
  },
  {
   "cell_type": "markdown",
   "id": "79c2afc6",
   "metadata": {},
   "source": [
    "Operaciones con strings"
   ]
  },
  {
   "cell_type": "code",
   "execution_count": null,
   "id": "b1c65eac",
   "metadata": {},
   "outputs": [],
   "source": [
    "# suma, para concatenar: +\n",
    "nombre_completo = nombre + apellido1\n",
    "nombre_completo"
   ]
  },
  {
   "cell_type": "code",
   "execution_count": null,
   "id": "3e3e6724",
   "metadata": {},
   "outputs": [],
   "source": [
    "nombre_completo = nombre + \" \" + apellido1\n",
    "nombre_completo"
   ]
  },
  {
   "cell_type": "code",
   "execution_count": null,
   "id": "5017cf9b",
   "metadata": {},
   "outputs": [],
   "source": [
    "nombre_completo = nombre + \" \" + apellido1 + \" \" + apellido2\n",
    "nombre_completo"
   ]
  },
  {
   "cell_type": "code",
   "execution_count": null,
   "id": "4fa43377",
   "metadata": {},
   "outputs": [],
   "source": [
    "numero = \"52248921452\"\n",
    "letra = 'N'\n",
    "nif = numero + letra"
   ]
  },
  {
   "cell_type": "code",
   "execution_count": null,
   "id": "4ba5a598",
   "metadata": {},
   "outputs": [],
   "source": [
    "nif"
   ]
  },
  {
   "cell_type": "code",
   "execution_count": null,
   "id": "e6211ff2",
   "metadata": {},
   "outputs": [],
   "source": [
    "nif[-1]"
   ]
  },
  {
   "cell_type": "code",
   "execution_count": null,
   "id": "42d041c3",
   "metadata": {},
   "outputs": [],
   "source": [
    "datos = \"14.123345 $\" + 5\n",
    "#no puede hacerlo porque uno es un string y otro un valor exacto. Si lo pogno como string el 5, también me va a salir algo raro"
   ]
  },
  {
   "cell_type": "code",
   "execution_count": null,
   "id": "b5e80cfa",
   "metadata": {},
   "outputs": [],
   "source": [
    "datos = \"14.123345 $\" + \"5\"\n",
    "datos"
   ]
  },
  {
   "cell_type": "code",
   "execution_count": null,
   "id": "df4c3978",
   "metadata": {},
   "outputs": [],
   "source": [
    "datos.split() #para separar los valores"
   ]
  },
  {
   "cell_type": "code",
   "execution_count": null,
   "id": "8e414a18",
   "metadata": {},
   "outputs": [],
   "source": [
    "importe = datos.split()[0] #asignamos una de esas particiones a una nueva variable"
   ]
  },
  {
   "cell_type": "code",
   "execution_count": null,
   "id": "e5638ce0",
   "metadata": {},
   "outputs": [],
   "source": [
    "importe"
   ]
  },
  {
   "cell_type": "code",
   "execution_count": null,
   "id": "ee879194",
   "metadata": {},
   "outputs": [],
   "source": [
    "importe = float(importe)\n",
    "importe\n",
    "#Transformamos el importe a float y ya podría hacer operaciones"
   ]
  },
  {
   "cell_type": "code",
   "execution_count": null,
   "id": "73ff589d",
   "metadata": {},
   "outputs": [],
   "source": [
    "datos.split?"
   ]
  },
  {
   "cell_type": "code",
   "execution_count": null,
   "id": "6e87f4da",
   "metadata": {},
   "outputs": [],
   "source": [
    "importe + 4"
   ]
  },
  {
   "cell_type": "code",
   "execution_count": null,
   "id": "69c0723a",
   "metadata": {},
   "outputs": [],
   "source": [
    "#otro caso de split en el que el símbolo esté pegado\n",
    "salario = \"33.1€\"\n",
    "salary = salario.replace(\"€\", \"\")\n",
    "salary"
   ]
  },
  {
   "cell_type": "code",
   "execution_count": null,
   "id": "46be6758",
   "metadata": {},
   "outputs": [],
   "source": [
    "salario3 = salario[0:-1]\n",
    "salario3"
   ]
  },
  {
   "cell_type": "code",
   "execution_count": null,
   "id": "6183f66c",
   "metadata": {},
   "outputs": [],
   "source": [
    "#son strings y se comportan como listas, son listas de caracters"
   ]
  },
  {
   "cell_type": "markdown",
   "id": "49180746",
   "metadata": {},
   "source": [
    "instrucción for\n",
    "Son para hacer bucles o loops Permite repetir una operación varias veces. Posiblemente con valores distintos"
   ]
  },
  {
   "cell_type": "code",
   "execution_count": null,
   "id": "361cb519",
   "metadata": {},
   "outputs": [],
   "source": [
    "#un bucle recorre una colección de elementos"
   ]
  },
  {
   "cell_type": "code",
   "execution_count": null,
   "id": "1e5525ce",
   "metadata": {},
   "outputs": [],
   "source": [
    "for x in precios:\n",
    "    print(x)\n",
    "    \n",
    "# ese print, como lo quiero repetir, tiene que estar tabulado, sino da error de indentation"
   ]
  },
  {
   "cell_type": "code",
   "execution_count": null,
   "id": "eeecd612",
   "metadata": {},
   "outputs": [],
   "source": [
    "#imprimir el 20% de cada uno de los precios\n",
    "\n",
    "for x in precios:\n",
    "    iva = x * 0.21\n",
    "    print(iva)"
   ]
  },
  {
   "cell_type": "code",
   "execution_count": null,
   "id": "b4b8dbb8",
   "metadata": {},
   "outputs": [],
   "source": [
    "lista = [5, 4, 5, 6, 7, 8, 5, 5]"
   ]
  },
  {
   "cell_type": "code",
   "execution_count": null,
   "id": "fee7f9cd",
   "metadata": {},
   "outputs": [],
   "source": [
    "lista.remove(5)\n",
    "lista\n",
    "#solo ha borrado el primer 5. Para quitar todos los 5 se puede hacer con for"
   ]
  },
  {
   "cell_type": "code",
   "execution_count": null,
   "id": "3721fd2f",
   "metadata": {},
   "outputs": [],
   "source": [
    "for x in lista:\n",
    "    if x == 5:\n",
    "        lista.remove(5)"
   ]
  },
  {
   "cell_type": "code",
   "execution_count": null,
   "id": "7913458c",
   "metadata": {},
   "outputs": [],
   "source": [
    "#no borra todo porque no es el método apropiado. Lo aproiafo es While\n",
    "#sirve para hacer bucles y permite repetir una oepración varias veces con valores diferentes"
   ]
  },
  {
   "cell_type": "code",
   "execution_count": null,
   "id": "642b4432",
   "metadata": {},
   "outputs": [],
   "source": [
    "lista = [5, 4, 5, 6, 7, 8, 5, 5]\n",
    "while 5 in lista:\n",
    "    lista.remove(5)\n",
    "    \n",
    "lista"
   ]
  },
  {
   "cell_type": "markdown",
   "id": "d9c91aa6",
   "metadata": {},
   "source": [
    "Funciones"
   ]
  },
  {
   "cell_type": "markdown",
   "id": "fc618b4d",
   "metadata": {},
   "source": [
    "Dos tipos de funciones: nuestras o propias\n",
    "\n",
    "Propias de Pytnon\n",
    "Max\n",
    "Print\n",
    "\n"
   ]
  },
  {
   "cell_type": "code",
   "execution_count": null,
   "id": "c1540ef0",
   "metadata": {},
   "outputs": [],
   "source": [
    "type(8)"
   ]
  },
  {
   "cell_type": "code",
   "execution_count": null,
   "id": "d9bd27ca",
   "metadata": {},
   "outputs": [],
   "source": [
    "len(\"rRRRR\")"
   ]
  },
  {
   "cell_type": "code",
   "execution_count": null,
   "id": "3a0be8d5",
   "metadata": {},
   "outputs": [],
   "source": [
    "#algunas funciones están predefinidas por python pero otras las podemos hacer nosotros"
   ]
  },
  {
   "cell_type": "code",
   "execution_count": null,
   "id": "bcc8c780",
   "metadata": {},
   "outputs": [],
   "source": [
    "def sumar_yo(x, y, z):\n",
    "    resultado = x + y + z\n",
    "    return resultado\n",
    "\n",
    "# def es para crearlo, luego el nombre y luego lista de parámetros que quiero añadir. \n",
    "#Añado dos puntos y le pongo lo que quiero hacer con la función"
   ]
  },
  {
   "cell_type": "code",
   "execution_count": null,
   "id": "e1206fa2",
   "metadata": {},
   "outputs": [],
   "source": [
    "sumar_yo(2, 3, 5)"
   ]
  },
  {
   "cell_type": "code",
   "execution_count": null,
   "id": "11a605a0",
   "metadata": {},
   "outputs": [],
   "source": [
    "def letra(nif):\n",
    "    return nif[-1]"
   ]
  },
  {
   "cell_type": "code",
   "execution_count": null,
   "id": "43c6e33d",
   "metadata": {},
   "outputs": [],
   "source": [
    "w = \"12345678B\"\n",
    "letra(w)"
   ]
  },
  {
   "cell_type": "code",
   "execution_count": null,
   "id": "2f9ac26f",
   "metadata": {},
   "outputs": [],
   "source": [
    "nifs = [\"123456R\", \"578398384J\", \"80686033C\"]\n",
    "#quiero sacar la letra de todoslos nifs y son muchos"
   ]
  },
  {
   "cell_type": "code",
   "execution_count": null,
   "id": "e2809d2a",
   "metadata": {},
   "outputs": [],
   "source": [
    "for valor in nifs:\n",
    "    l = letra(valor)\n",
    "    print(l)"
   ]
  },
  {
   "cell_type": "code",
   "execution_count": null,
   "id": "3c43ba47",
   "metadata": {},
   "outputs": [],
   "source": []
  },
  {
   "cell_type": "code",
   "execution_count": null,
   "id": "96677b28",
   "metadata": {},
   "outputs": [],
   "source": []
  },
  {
   "cell_type": "code",
   "execution_count": null,
   "id": "ac90c960",
   "metadata": {},
   "outputs": [],
   "source": []
  },
  {
   "cell_type": "code",
   "execution_count": null,
   "id": "f39ef054",
   "metadata": {},
   "outputs": [],
   "source": []
  },
  {
   "cell_type": "code",
   "execution_count": null,
   "id": "0dba760e",
   "metadata": {},
   "outputs": [],
   "source": []
  },
  {
   "cell_type": "markdown",
   "id": "56226469",
   "metadata": {},
   "source": [
    "Folium es una librería para generar mapas en python, encapsula leaflet.js\n",
    "Con una exclamación ejecuto algo fuera de Python. \n",
    "PIP es un gesto de paquetes en en Pythom. PIP es la herramienta oficial de Python para instalar librerías\n",
    "\n",
    "¡pip install Folium"
   ]
  },
  {
   "cell_type": "code",
   "execution_count": null,
   "id": "3b37671d",
   "metadata": {},
   "outputs": [],
   "source": []
  },
  {
   "cell_type": "markdown",
   "id": "b35af176",
   "metadata": {},
   "source": [
    "Pd.DataFrame() es una especie de hoja de cálculo, tipo Excel, columnas, índice y filas\n",
    "\n",
    "Se lo podemos asignar a una variable, por ejemplo, A = pd.DataFrame\n",
    "\n",
    "Para referirnos a una sola parte, A[columnaX]\n",
    "Si quiero solo un dato concreto de esa columa , A[columnaX][Numero]\n"
   ]
  },
  {
   "cell_type": "markdown",
   "id": "d0519f9b",
   "metadata": {},
   "source": [
    "Puedo cambiar los nombres de las filas\n",
    "Índice = [“nombre1”, “nombre2”,…] etc\n",
    "A.index = índice\n"
   ]
  },
  {
   "cell_type": "code",
   "execution_count": null,
   "id": "1763e392",
   "metadata": {},
   "outputs": [],
   "source": [
    "Df = pd.read_csv(url, delimeter=”;”=)\n",
    "#Delimiter por si no es coma de sepración de campos\n",
    "#Pd.read_puede ser json o cualquier otro fomrao\n",
    "#En lugar de url puedes bajarte la BBDD y poner la ruta en tu ordenador\n"
   ]
  },
  {
   "cell_type": "code",
   "execution_count": null,
   "id": "5a1894ae",
   "metadata": {},
   "outputs": [],
   "source": [
    "Df = pd.read_csv(“bbdd.csv”)"
   ]
  },
  {
   "cell_type": "code",
   "execution_count": null,
   "id": "05e6baee",
   "metadata": {},
   "outputs": [],
   "source": [
    "Df.columns\n",
    "#Muestra las columnas\n",
    "Df[“unadelascolumnasquenos interese”]\n"
   ]
  },
  {
   "cell_type": "code",
   "execution_count": null,
   "id": "7a39dde8",
   "metadata": {},
   "outputs": [],
   "source": [
    "Df.[“columna”].unique\n",
    "#Muestra la columna sin valores repetidos"
   ]
  },
  {
   "cell_type": "code",
   "execution_count": null,
   "id": "7410cbba",
   "metadata": {},
   "outputs": [],
   "source": [
    "df.drop\n",
    "#para eliminar algo. Lo el pvimer varlo son las filas, si lo quiero en columnas tengo que añadir \n",
    "df.drop(columna, axis=1)\n"
   ]
  },
  {
   "cell_type": "code",
   "execution_count": null,
   "id": "71bed185",
   "metadata": {},
   "outputs": [],
   "source": [
    "#Para separar valores dentro de una columna (por ejemplo, logitud y latitud, nombre y apelliods…=\n",
    "\n",
    "Df[“columna”][0]\n",
    "#Estoy seleccionando la columna 0, el primer valor que hay dentro\n"
   ]
  },
  {
   "cell_type": "code",
   "execution_count": null,
   "id": "825d37ab",
   "metadata": {},
   "outputs": [],
   "source": [
    "df.set_index(“X”)\n",
    "#para cambiar el index de una tabla, para que en lugar por ejemplo de número sea una lización\n"
   ]
  },
  {
   "cell_type": "code",
   "execution_count": null,
   "id": "63cfb6d1",
   "metadata": {},
   "outputs": [],
   "source": [
    "#para covertir una cadena de caracterss a número\n",
    "\n",
    "pd.to_numeric([“1212”, “3939339”])\n"
   ]
  },
  {
   "cell_type": "code",
   "execution_count": null,
   "id": "3b727e77",
   "metadata": {},
   "outputs": [],
   "source": [
    "#Si hay caracteres no lo reconoce. Entonces si ve error, que lo conveirtae n NA\n",
    "Pd.to_numeric([“1213”, “15653”, “-“], errors=”coerce”)\n"
   ]
  },
  {
   "cell_type": "code",
   "execution_count": null,
   "id": "5af18967",
   "metadata": {},
   "outputs": [],
   "source": [
    "Df[“columna”][0],Split(“,”)\n",
    "\n",
    "#Estoy separando la columna en dos por una coma\n"
   ]
  },
  {
   "cell_type": "code",
   "execution_count": null,
   "id": "e197ae3c",
   "metadata": {},
   "outputs": [],
   "source": [
    "#Crear una nueva varibale\n",
    "pointStr = Df[“columna”][0],Split(“,”)\n",
    "#que tiene dos valores, lo dos que he separado de una colmna\n"
   ]
  },
  {
   "cell_type": "code",
   "execution_count": null,
   "id": "674a915f",
   "metadata": {},
   "outputs": [],
   "source": [
    "#para convertir esos valores en números\n",
    "[float(pointStr[0]), float(poinStr[1])\n"
   ]
  },
  {
   "cell_type": "code",
   "execution_count": null,
   "id": "5c9b428d",
   "metadata": {},
   "outputs": [],
   "source": [
    "#creo un data frame que sea coordaenas con latitud y gitu\n",
    "coordenadas = pd.DataFrame{“long”:longitudes, “lat”:latitudes}\n"
   ]
  },
  {
   "cell_type": "code",
   "execution_count": null,
   "id": "f3432b42",
   "metadata": {},
   "outputs": [],
   "source": [
    "coordenadasCIUDAD [ coordnadas, cooordneadas]\n",
    "mapa = folium.map(coordeanaasCIUDAD)\n"
   ]
  },
  {
   "cell_type": "code",
   "execution_count": null,
   "id": "38d8e3cf",
   "metadata": {},
   "outputs": [],
   "source": [
    "url = “página web”\n",
    "\n",
    "marcadaor = folium.Maker(coordenadasCiudad,popup=”Ciudad”=\n",
    "mapa = mapa.add_child)marcador=\n"
   ]
  },
  {
   "cell_type": "code",
   "execution_count": null,
   "id": "88a5f7fd",
   "metadata": {},
   "outputs": [],
   "source": [
    "For índice, fila in nombreBBDD.iterrows():\n",
    "\tMarcador = folium.Maker([fila[“lat”, fila[“long”]], Popoup=fila[type])\n",
    "Mapa.add_child(marcador)\n",
    "\n"
   ]
  },
  {
   "cell_type": "code",
   "execution_count": null,
   "id": "dc4024f9",
   "metadata": {},
   "outputs": [],
   "source": [
    "#mapas de calaor\n",
    "from folium import plugns\n",
    "form folium.plugins import heatmap\n",
    "\n",
    "mapa = folium.map(crdenadas ciudad)\n",
    "m.add_child)heatmpa=\n"
   ]
  },
  {
   "cell_type": "code",
   "execution_count": null,
   "id": "a3279bff",
   "metadata": {},
   "outputs": [],
   "source": [
    "Requests\n",
    "Import requests\n",
    "\n",
    "#Sirve para hacer peticiones HTTP\n",
    "\n",
    "r = requests.get(“dirección web”)\n",
    "r.text\n",
    "muestra el texto\n",
    "r.text[]\n",
    "\n"
   ]
  },
  {
   "cell_type": "code",
   "execution_count": null,
   "id": "d5571644",
   "metadata": {},
   "outputs": [],
   "source": [
    "#Para crear gracifos\n",
    "\n",
    "df.plot(kind=”loquesea”)\n"
   ]
  },
  {
   "cell_type": "markdown",
   "id": "e1324cee",
   "metadata": {},
   "source": [
    "BeautifulSouyp\n",
    "Permite, una vez cogido el contendí de una web con requests, se parsea\n"
   ]
  },
  {
   "cell_type": "code",
   "execution_count": null,
   "id": "2b7ca7f6",
   "metadata": {},
   "outputs": [],
   "source": [
    "Import bs54 from BeautifulSoup\n",
    "Soup = Beautifusl.Soup(r.text, “html.parser”)\n",
    "\n",
    "#Para tener texto, que es lo que me interesa\n",
    "Soup.get_text()\n"
   ]
  },
  {
   "cell_type": "code",
   "execution_count": null,
   "id": "72d122a4",
   "metadata": {},
   "outputs": [],
   "source": [
    "Loquetengaguardado.strip\n",
    "#Te quita los caracteres raros\n"
   ]
  },
  {
   "cell_type": "code",
   "execution_count": null,
   "id": "3f288927",
   "metadata": {},
   "outputs": [],
   "source": [
    "Soup.find_all(“loqueuierabuscar”) (H2, link, etc)\n",
    "\n"
   ]
  },
  {
   "cell_type": "code",
   "execution_count": null,
   "id": "3077db82",
   "metadata": {},
   "outputs": [],
   "source": []
  },
  {
   "cell_type": "code",
   "execution_count": null,
   "id": "c259cae3",
   "metadata": {},
   "outputs": [],
   "source": []
  },
  {
   "cell_type": "code",
   "execution_count": null,
   "id": "e173d7bb",
   "metadata": {},
   "outputs": [],
   "source": []
  },
  {
   "cell_type": "code",
   "execution_count": null,
   "id": "66b7bdf9",
   "metadata": {},
   "outputs": [],
   "source": []
  }
 ],
 "metadata": {
  "kernelspec": {
   "display_name": "Python 3",
   "language": "python",
   "name": "python3"
  },
  "language_info": {
   "codemirror_mode": {
    "name": "ipython",
    "version": 3
   },
   "file_extension": ".py",
   "mimetype": "text/x-python",
   "name": "python",
   "nbconvert_exporter": "python",
   "pygments_lexer": "ipython3",
   "version": "3.8.8"
  }
 },
 "nbformat": 4,
 "nbformat_minor": 5
}
