{
 "cells": [
  {
   "cell_type": "markdown",
   "id": "4c0b16d3",
   "metadata": {},
   "source": [
    "IMAGEN AVANZADA"
   ]
  },
  {
   "cell_type": "markdown",
   "id": "4d4e0582",
   "metadata": {},
   "source": [
    "IMAGEMAGICK"
   ]
  },
  {
   "cell_type": "code",
   "execution_count": null,
   "id": "920b9e40",
   "metadata": {},
   "outputs": [],
   "source": [
    "#para instalar esta herramienta\n",
    "brew install imagemagick\n"
   ]
  },
  {
   "cell_type": "code",
   "execution_count": null,
   "id": "d1b8be3a",
   "metadata": {},
   "outputs": [],
   "source": [
    "#para obtener imágenes y guardarlas en el directorio en el que estemos trabajando(pwd)\n",
    "wget http://rutadelaimagen.png -O nombre_imagen.png"
   ]
  },
  {
   "cell_type": "code",
   "execution_count": null,
   "id": "2a968068",
   "metadata": {},
   "outputs": [],
   "source": [
    "#Utilidad para describir el formato y características de una o más archivos de imagen.\n",
    "identify path/to/image\n"
   ]
  },
  {
   "cell_type": "code",
   "execution_count": null,
   "id": "c7cf7920",
   "metadata": {},
   "outputs": [],
   "source": [
    "#Recopila dimensiones de todos los archivos JPEG bajo el actual directorio\n",
    "identify -format \"%f,%w,%h\\n\" *.jpg > filelist.csv\n"
   ]
  },
  {
   "cell_type": "markdown",
   "id": "b5882432",
   "metadata": {},
   "source": [
    "Para cambiar el tamaño de las imágenes"
   ]
  },
  {
   "cell_type": "code",
   "execution_count": null,
   "id": "fc147db4",
   "metadata": {},
   "outputs": [],
   "source": [
    "convert -resize 25% imagen_original.jpg imagen_modificada.jpg\n",
    "convert -resize x300 imagen_original.jpg imagen_modificada.jpg\n"
   ]
  },
  {
   "cell_type": "markdown",
   "id": "d6ee9448",
   "metadata": {},
   "source": [
    "para quitar fondo blanco y recortar bordes"
   ]
  },
  {
   "cell_type": "code",
   "execution_count": null,
   "id": "83809d88",
   "metadata": {},
   "outputs": [],
   "source": [
    "convert imagen:logo -fuzz 15% -transparent white -trim nueva_imagen.png"
   ]
  },
  {
   "cell_type": "markdown",
   "id": "4c439bf8",
   "metadata": {},
   "source": [
    "Hacer memes con ImageMacick"
   ]
  },
  {
   "cell_type": "code",
   "execution_count": null,
   "id": "c43ae0d2",
   "metadata": {},
   "outputs": [],
   "source": [
    "#Clonamos el repositorio\n",
    "git clone https://github.com/ddrscott/convert_meme \n"
   ]
  },
  {
   "cell_type": "markdown",
   "id": "49d087f9",
   "metadata": {},
   "source": [
    "EXTRAER TEXTOS DE PDF"
   ]
  },
  {
   "cell_type": "code",
   "execution_count": null,
   "id": "d7f460c8",
   "metadata": {},
   "outputs": [],
   "source": [
    "#Convierte `archivo.pdf` a texto plano y lo imprime en la terminal\n",
    "pdftotext archivo.pdf -\n"
   ]
  },
  {
   "cell_type": "code",
   "execution_count": null,
   "id": "65e63d36",
   "metadata": {},
   "outputs": [],
   "source": [
    "#Convierte `archvio.pdf` a texto plano y lo guarda como `archivo.txt`:\n",
    "pdftotext archivo.pdf - > archivo.txt"
   ]
  },
  {
   "cell_type": "code",
   "execution_count": null,
   "id": "0d13fb03",
   "metadata": {},
   "outputs": [],
   "source": [
    "#Convierte `archivo.pdf` a texto plano y lo imprime en la terminal preservando la maquetación\n",
    "pdftotext -layout archivo.pdf -\n"
   ]
  },
  {
   "cell_type": "code",
   "execution_count": null,
   "id": "e9f054b3",
   "metadata": {},
   "outputs": [],
   "source": [
    "#Convierte las págines 2, 3 y 4 de `archvio.pdf` a texto plano y las guarda en `nuevo_archivo.txt`\n",
    "pdftotext -f 2 -l 4 archivo.pdf nuevo_archivo.txt\n"
   ]
  },
  {
   "cell_type": "markdown",
   "id": "37136744",
   "metadata": {},
   "source": [
    "EXTRAER IMÁGENES DE PDF"
   ]
  },
  {
   "cell_type": "code",
   "execution_count": null,
   "id": "207d921b",
   "metadata": {},
   "outputs": [],
   "source": [
    "pdfimages Forma parte del paquete poppler"
   ]
  },
  {
   "cell_type": "code",
   "execution_count": null,
   "id": "56cd4c4b",
   "metadata": {},
   "outputs": [],
   "source": [
    "#Extrae todas las imágenes de un PDF y las guarda como PNGs\n",
    "pdfimages -png path/to/file.pdf filename_prefix\n",
    "\n"
   ]
  },
  {
   "cell_type": "code",
   "execution_count": null,
   "id": "c26a4a9c",
   "metadata": {},
   "outputs": [],
   "source": [
    "#Si los png tienen transparencia podemos utilizar este script\n",
    "mkdir output\n",
    "bash extract_pdf_images.sh archivo.pdf output"
   ]
  },
  {
   "cell_type": "code",
   "execution_count": null,
   "id": "b6383666",
   "metadata": {},
   "outputs": [],
   "source": [
    "#Extrae imágenes de la página 3 a la 5\n",
    "pdfimages -f 3 -l 5 path/to/file.pdf filename_prefix\n"
   ]
  },
  {
   "cell_type": "code",
   "execution_count": null,
   "id": "92a83c2a",
   "metadata": {},
   "outputs": [],
   "source": [
    "#Extrae imágenes de un PDF e incluye el número de la página en el nombre de archivo resultante\n",
    "pdfimages -p path/to/file.pdf filename_prefix\n"
   ]
  },
  {
   "cell_type": "code",
   "execution_count": null,
   "id": "5d6c6b9a",
   "metadata": {},
   "outputs": [],
   "source": [
    "#Lista la información acerca de todas las imágenes del PDF\n",
    "pdfimages -list path/to/file.pdf"
   ]
  },
  {
   "cell_type": "markdown",
   "id": "02e5ecec",
   "metadata": {},
   "source": [
    "MANIPULAR PDF"
   ]
  },
  {
   "cell_type": "code",
   "execution_count": null,
   "id": "844eb386",
   "metadata": {},
   "outputs": [],
   "source": [
    "pdftk PDF toolkit "
   ]
  },
  {
   "cell_type": "code",
   "execution_count": null,
   "id": "50238961",
   "metadata": {},
   "outputs": [],
   "source": [
    "#Extraemos las páginas 1-3, 5 y 6-10 de un PDF y las guardamos en otro\n",
    "pdftk input.pdf cat 1-3 5 6-10 output output.pdf\n"
   ]
  },
  {
   "cell_type": "code",
   "execution_count": null,
   "id": "c287ed6b",
   "metadata": {},
   "outputs": [],
   "source": [
    "#Fusionamos una lista de PDFs y guardamos el resultado en un único PDF\n",
    "pdftk file1.pdf file2.pdf ... cat output output.pdf\n"
   ]
  },
  {
   "cell_type": "code",
   "execution_count": null,
   "id": "6401f9fb",
   "metadata": {},
   "outputs": [],
   "source": [
    "#Separamos cada página en un archivo separado con un patrón de nombre de archivo\n",
    "pdftk input.pdf burst output out_%d.pdf\n"
   ]
  },
  {
   "cell_type": "code",
   "execution_count": null,
   "id": "89282ed4",
   "metadata": {},
   "outputs": [],
   "source": [
    "#Rotamos todas las páginas 180º en sentido horario\n",
    "pdftk input.pdf cat 1-endsouth output output.pdf\n"
   ]
  },
  {
   "cell_type": "code",
   "execution_count": null,
   "id": "3583f6b2",
   "metadata": {},
   "outputs": [],
   "source": [
    "#Rotamos la tercera página 90º en sentido horario y dejamos el resto intactas\n",
    "pdftk input.pdf cat 1-2 3east 4-end output output.pdf\n"
   ]
  },
  {
   "cell_type": "markdown",
   "id": "9e442883",
   "metadata": {},
   "source": [
    "RECORTAR MÁRGENES\n"
   ]
  },
  {
   "cell_type": "markdown",
   "id": "c6cd2e1d",
   "metadata": {},
   "source": [
    "pdf-crop-margins es un paquete de python que nos permite recortar PDFs sin perder la información de texto\n"
   ]
  },
  {
   "cell_type": "code",
   "execution_count": null,
   "id": "61d0e1b0",
   "metadata": {},
   "outputs": [],
   "source": [
    "#Para instalarlo\n",
    "pip install pdfCropMargins --upgrade\n"
   ]
  },
  {
   "cell_type": "code",
   "execution_count": null,
   "id": "1ebc76dc",
   "metadata": {},
   "outputs": [],
   "source": [
    "#Recortar de manera uniforme 100px por cada margen\n",
    "pdf-crop-margins -ap 100 -p 100 input.pdf\n"
   ]
  },
  {
   "cell_type": "code",
   "execution_count": null,
   "id": "093ef095",
   "metadata": {},
   "outputs": [],
   "source": [
    "#Recortar márgenes con diferentes tamaños\n",
    "pdf-crop-margins -ap4 20 100 20 100 -p 100 input.pdf -o output.pdf"
   ]
  },
  {
   "cell_type": "markdown",
   "id": "d5b50940",
   "metadata": {},
   "source": [
    "IMAGEN PARA OCR"
   ]
  },
  {
   "cell_type": "code",
   "execution_count": null,
   "id": "f31a6d6d",
   "metadata": {},
   "outputs": [],
   "source": [
    "# mejorar el constraste de una imagenu tilizando el script LOCALTHRESH\n",
    "wget http://www.fmwconcepts.com/imagemagick/downloadcounter.php?scriptname=localthresh&dirname=localthresh\n",
    "path-to-the-script/localthresh -m 3 -r 25 -b 20 -n yes input.jpg output.jpg     \n"
   ]
  },
  {
   "cell_type": "code",
   "execution_count": null,
   "id": "3abea195",
   "metadata": {},
   "outputs": [],
   "source": [
    "#Utilizaremos el programa de línea de comandos para OCR tesseract\n",
    "#Instalación WSL y Linux\n",
    "•\tsudo apt install tesseract-ocr tesseract-ocr-spa\n",
    "#Instalación en MacOS\n",
    "•\tbrew install tesseract tesseract-lang\n"
   ]
  },
  {
   "cell_type": "code",
   "execution_count": null,
   "id": "9f820d01",
   "metadata": {},
   "outputs": [],
   "source": [
    "#si queremos añadir varios idiomas al ocr\n",
    "tesseract -l spa+eng+otrosidionas "
   ]
  },
  {
   "cell_type": "code",
   "execution_count": null,
   "id": "582d0286",
   "metadata": {},
   "outputs": [],
   "source": [
    "#Hacemos una prueba rápida\n",
    "tesseract -l spa output.jpg out"
   ]
  },
  {
   "cell_type": "markdown",
   "id": "8e6670b6",
   "metadata": {},
   "source": [
    "OCR PARA TABLAS\n"
   ]
  },
  {
   "cell_type": "code",
   "execution_count": null,
   "id": "88c11923",
   "metadata": {},
   "outputs": [],
   "source": [
    "#Los submódulos del script siguen este orden:\n",
    "pdftoimage #exporta en png las páginas de un pdf\n",
    "extracttable # extrae las tablas en png de las imágenes\n",
    "extractcells # extrae en imágenes cada celda\n",
    "ocrimage # aplica OCR a cada celda en imagen\n",
    "ocrtocsv # une todos los txt para componer la estructura del CSV"
   ]
  },
  {
   "cell_type": "code",
   "execution_count": null,
   "id": "f9e27fa9",
   "metadata": {},
   "outputs": [],
   "source": [
    "for image in ./*.jpg; do tesseract $image stdout >> out2 ; done\n"
   ]
  },
  {
   "cell_type": "code",
   "execution_count": null,
   "id": "3ee3bb3f",
   "metadata": {},
   "outputs": [],
   "source": [
    "#módulo de python table-ocr\n",
    "#Para instalarlo\n",
    "pip3 install table-ocr\n",
    "#Hacemos una prueba rápida\n",
    "python3 -m table_ocr.demo \\\n",
    "https://raw.githubusercontent.com/eihli/image-table-ocr/master/resources/test_data/simple.png\n",
    "\n"
   ]
  },
  {
   "cell_type": "markdown",
   "id": "2acb6799",
   "metadata": {},
   "source": [
    "PANDOC"
   ]
  },
  {
   "cell_type": "markdown",
   "id": "1aa82dca",
   "metadata": {},
   "source": [
    "conversor de documentos"
   ]
  },
  {
   "cell_type": "code",
   "execution_count": null,
   "id": "0694f8eb",
   "metadata": {},
   "outputs": [],
   "source": [
    "#Guía de instalación https://pandoc.org/installing.html\n",
    "#Podemos comprobar la lista de fornatos de entrada\n",
    "pandoc --list-input-formats\n",
    "#Y lo mismo para los de salida-\n",
    "pandoc --list-output-formats\n"
   ]
  },
  {
   "cell_type": "code",
   "execution_count": null,
   "id": "c06449a2",
   "metadata": {},
   "outputs": [],
   "source": [
    "#convertir un archivo de markdown a PDF\n",
    "pandoc input.md -o output.pdf\n"
   ]
  },
  {
   "cell_type": "markdown",
   "id": "2edab7de",
   "metadata": {},
   "source": [
    "FFMPEG"
   ]
  },
  {
   "cell_type": "code",
   "execution_count": null,
   "id": "76ca0057",
   "metadata": {},
   "outputs": [],
   "source": [
    "#Info del video sin banner de ffmpeg\n",
    "ffmpeg -i video.mp4 -hide_banner\n",
    "\n"
   ]
  },
  {
   "cell_type": "code",
   "execution_count": null,
   "id": "04bbe845",
   "metadata": {},
   "outputs": [],
   "source": [
    "#Convertir a otro formato sin perder calidad (.avi, .webm, .mkv, …)\n",
    "ffmpeg -i input.mp4 -qscale 0 output.avi\n",
    "#En qué formatos?\n",
    "ffmpeg -formats"
   ]
  },
  {
   "cell_type": "code",
   "execution_count": null,
   "id": "a8aaaefa",
   "metadata": {},
   "outputs": [],
   "source": [
    "#Extraer el audio de un video\n",
    "ffmpeg -i input.mp4 -vn output.mp3\n"
   ]
  },
  {
   "cell_type": "code",
   "execution_count": null,
   "id": "efe6bcc0",
   "metadata": {},
   "outputs": [],
   "source": [
    "#Mutear un video\n",
    "ffmpeg -i input.mp4 -an output.mp4\n"
   ]
  },
  {
   "cell_type": "code",
   "execution_count": null,
   "id": "92c6f928",
   "metadata": {},
   "outputs": [],
   "source": [
    "#Extraer fotogramas del video\n",
    "ffmpeg -i input.mp4 -r 1 -f image2 image-%2d.png\n"
   ]
  },
  {
   "cell_type": "code",
   "execution_count": null,
   "id": "39b38749",
   "metadata": {},
   "outputs": [],
   "source": []
  }
 ],
 "metadata": {
  "kernelspec": {
   "display_name": "Python 3",
   "language": "python",
   "name": "python3"
  },
  "language_info": {
   "codemirror_mode": {
    "name": "ipython",
    "version": 3
   },
   "file_extension": ".py",
   "mimetype": "text/x-python",
   "name": "python",
   "nbconvert_exporter": "python",
   "pygments_lexer": "ipython3",
   "version": "3.8.8"
  }
 },
 "nbformat": 4,
 "nbformat_minor": 5
}
